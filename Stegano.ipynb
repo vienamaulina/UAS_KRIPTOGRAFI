{
  "nbformat": 4,
  "nbformat_minor": 0,
  "metadata": {
    "colab": {
      "provenance": []
    },
    "kernelspec": {
      "name": "python3",
      "display_name": "Python 3"
    },
    "language_info": {
      "name": "python"
    }
  },
  "cells": [
    {
      "cell_type": "code",
      "execution_count": 1,
      "metadata": {
        "colab": {
          "base_uri": "https://localhost:8080/",
          "height": 620
        },
        "id": "1Yt-vUjX2e5S",
        "outputId": "05720884-e56d-4118-e33c-baff7964fe5e"
      },
      "outputs": [
        {
          "output_type": "stream",
          "name": "stdout",
          "text": [
            "Collecting stegano\n",
            "  Downloading stegano-0.11.3-py3-none-any.whl (61 kB)\n",
            "\u001b[2K     \u001b[90m━━━━━━━━━━━━━━━━━━━━━━━━━━━━━━━━━━━━━━━━\u001b[0m \u001b[32m61.5/61.5 kB\u001b[0m \u001b[31m1.1 MB/s\u001b[0m eta \u001b[36m0:00:00\u001b[0m\n",
            "\u001b[?25hCollecting crayons<0.5.0,>=0.4.0 (from stegano)\n",
            "  Downloading crayons-0.4.0-py2.py3-none-any.whl (4.6 kB)\n",
            "Collecting opencv-python<5.0.0.0,>=4.8.1.78 (from stegano)\n",
            "  Downloading opencv_python-4.9.0.80-cp37-abi3-manylinux_2_17_x86_64.manylinux2014_x86_64.whl (62.2 MB)\n",
            "\u001b[2K     \u001b[90m━━━━━━━━━━━━━━━━━━━━━━━━━━━━━━━━━━━━━━━━\u001b[0m \u001b[32m62.2/62.2 MB\u001b[0m \u001b[31m10.7 MB/s\u001b[0m eta \u001b[36m0:00:00\u001b[0m\n",
            "\u001b[?25hCollecting piexif<2.0.0,>=1.1.3 (from stegano)\n",
            "  Downloading piexif-1.1.3-py2.py3-none-any.whl (20 kB)\n",
            "Collecting pillow<11.0,>=9.5 (from stegano)\n",
            "  Downloading pillow-10.2.0-cp310-cp310-manylinux_2_28_x86_64.whl (4.5 MB)\n",
            "\u001b[2K     \u001b[90m━━━━━━━━━━━━━━━━━━━━━━━━━━━━━━━━━━━━━━━━\u001b[0m \u001b[32m4.5/4.5 MB\u001b[0m \u001b[31m48.4 MB/s\u001b[0m eta \u001b[36m0:00:00\u001b[0m\n",
            "\u001b[?25hCollecting colorama (from crayons<0.5.0,>=0.4.0->stegano)\n",
            "  Downloading colorama-0.4.6-py2.py3-none-any.whl (25 kB)\n",
            "Requirement already satisfied: numpy>=1.21.2 in /usr/local/lib/python3.10/dist-packages (from opencv-python<5.0.0.0,>=4.8.1.78->stegano) (1.23.5)\n",
            "Installing collected packages: pillow, piexif, opencv-python, colorama, crayons, stegano\n",
            "  Attempting uninstall: pillow\n",
            "    Found existing installation: Pillow 9.4.0\n",
            "    Uninstalling Pillow-9.4.0:\n",
            "      Successfully uninstalled Pillow-9.4.0\n",
            "  Attempting uninstall: opencv-python\n",
            "    Found existing installation: opencv-python 4.8.0.76\n",
            "    Uninstalling opencv-python-4.8.0.76:\n",
            "      Successfully uninstalled opencv-python-4.8.0.76\n",
            "\u001b[31mERROR: pip's dependency resolver does not currently take into account all the packages that are installed. This behaviour is the source of the following dependency conflicts.\n",
            "imageio 2.31.6 requires pillow<10.1.0,>=8.3.2, but you have pillow 10.2.0 which is incompatible.\u001b[0m\u001b[31m\n",
            "\u001b[0mSuccessfully installed colorama-0.4.6 crayons-0.4.0 opencv-python-4.9.0.80 piexif-1.1.3 pillow-10.2.0 stegano-0.11.3\n"
          ]
        },
        {
          "output_type": "display_data",
          "data": {
            "application/vnd.colab-display-data+json": {
              "pip_warning": {
                "packages": [
                  "PIL"
                ]
              }
            }
          },
          "metadata": {}
        }
      ],
      "source": [
        "!pip install stegano"
      ]
    },
    {
      "cell_type": "code",
      "source": [
        "from stegano import lsb\n",
        "\n",
        "secret = lsb.hide(\"nn.png\", \"halo ini vien\")\n",
        "secret.save(\"nn2.png\")\n",
        "print(lsb.reveal(\"nn2.png\"))"
      ],
      "metadata": {
        "colab": {
          "base_uri": "https://localhost:8080/"
        },
        "id": "KQpxUaVA23H1",
        "outputId": "94ddc58f-b412-4c21-9ec0-d6a150ffe542"
      },
      "execution_count": 3,
      "outputs": [
        {
          "output_type": "stream",
          "name": "stdout",
          "text": [
            "The mode of the image is not RGB. Mode is P\n",
            "Convert the image to RGB ? [Y / n]\n",
            "y\n",
            "halo ini vien\n"
          ]
        }
      ]
    },
    {
      "cell_type": "code",
      "source": [
        "from stegano import lsb\n",
        "\n",
        "#secret = lsb.hide(\"aa\", \"halo ini vien\")\n",
        "#secret.save(\"ab.jpg\")\n",
        "print(lsb.reveal(\"nn2.png\"))"
      ],
      "metadata": {
        "colab": {
          "base_uri": "https://localhost:8080/"
        },
        "id": "gjLC-2OX27Ie",
        "outputId": "63f724e1-9418-48ac-fb1e-067c1fb43a8a"
      },
      "execution_count": 4,
      "outputs": [
        {
          "output_type": "stream",
          "name": "stdout",
          "text": [
            "halo ini vien\n"
          ]
        }
      ]
    }
  ]
}