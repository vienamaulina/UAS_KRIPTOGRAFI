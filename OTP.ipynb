{
  "nbformat": 4,
  "nbformat_minor": 0,
  "metadata": {
    "colab": {
      "provenance": []
    },
    "kernelspec": {
      "name": "python3",
      "display_name": "Python 3"
    },
    "language_info": {
      "name": "python"
    }
  },
  "cells": [
    {
      "cell_type": "code",
      "source": [
        "def otp_encrypt(message, key):\n",
        "    encrypted_message = ''\n",
        "    for i in range(len(message)):\n",
        "        char = message[i]\n",
        "        key_char = key[i % len(key)]  # Gunakan modulus untuk loop kunci jika pesan lebih panjang\n",
        "\n",
        "        # Operasi XOR antara karakter pesan dan kunci\n",
        "        encrypted_char = chr((ord(char) + ord(key_char)) % 256)\n",
        "\n",
        "        encrypted_message += encrypted_char\n",
        "    return encrypted_message\n",
        "\n",
        "def otp_decrypt(encrypted_message, key):\n",
        "    decrypted_message = ''\n",
        "    for i in range(len(encrypted_message)):\n",
        "        char = encrypted_message[i]\n",
        "        key_char = key[i % len(key)]  # Gunakan modulus untuk loop kunci jika pesan lebih panjang\n",
        "\n",
        "        # Operasi XOR antara karakter terenkripsi dan kunci\n",
        "        decrypted_char = chr((ord(char) - ord(key_char)) % 256)\n",
        "\n",
        "        decrypted_message += decrypted_char\n",
        "    return decrypted_message\n",
        "\n",
        "\n",
        "print(\"Implementasi One Time Pad\")\n",
        "print(\"\")\n",
        "# Memasukkan plain text dan kunci secara manual\n",
        "plain_text = input(\"Masukkan plain text: \")\n",
        "key = input(\"Masukkan kunci: \")\n",
        "\n",
        "# Enkripsi\n",
        "encrypted_text = otp_encrypt(plain_text, key)\n",
        "print(\"Pesan Terenkripsi:\", encrypted_text)\n",
        "\n",
        "# Dekripsi\n",
        "decrypted_text = otp_decrypt(encrypted_text, key)\n",
        "print(\"Pesan Terdekripsi:\", decrypted_text)\n",
        "\n",
        "# Note : plain teks dan kata kunci harus memiliki jumlah karakter yang sama"
      ],
      "metadata": {
        "colab": {
          "base_uri": "https://localhost:8080/"
        },
        "id": "KvAjG3f2Tpa9",
        "outputId": "d9884509-27c4-41f8-fd82-61219a4b961d"
      },
      "execution_count": 10,
      "outputs": [
        {
          "output_type": "stream",
          "name": "stdout",
          "text": [
            "Implementasi One Time Pad\n",
            "\n",
            "Masukkan plain text: viena\n",
            "Masukkan kunci: kuliah\n",
            "Pesan Terenkripsi: áÞÑ×Â\n",
            "Pesan Terdekripsi: viena\n"
          ]
        }
      ]
    }
  ]
}